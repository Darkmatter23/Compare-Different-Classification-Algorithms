{
 "cells": [
  {
   "cell_type": "code",
   "execution_count": 3,
   "metadata": {
    "_cell_guid": "b1076dfc-b9ad-4769-8c92-a6c4dae69d19",
    "_uuid": "8f2839f25d086af736a60e9eeb907d3b93b6e0e5",
    "execution": {
     "iopub.execute_input": "2021-06-01T07:37:47.628463Z",
     "iopub.status.busy": "2021-06-01T07:37:47.627980Z",
     "iopub.status.idle": "2021-06-01T07:37:49.969033Z",
     "shell.execute_reply": "2021-06-01T07:37:49.968014Z",
     "shell.execute_reply.started": "2021-06-01T07:37:47.628353Z"
    }
   },
   "outputs": [],
   "source": [
    "import numpy as np\n",
    "import pandas as pd\n",
    "import seaborn as sns\n",
    "import matplotlib.pyplot as plt\n",
    "\n",
    "from sklearn.tree import DecisionTreeClassifier\n",
    "from sklearn.neighbors import KNeighborsClassifier\n",
    "from sklearn.metrics import accuracy_score, confusion_matrix, classification_report\n",
    "from sklearn.ensemble import RandomForestClassifier\n",
    "from sklearn.model_selection import train_test_split\n",
    "from sklearn.preprocessing import StandardScaler, MinMaxScaler\n",
    "from sklearn.svm import SVC\n",
    "\n",
    "import warnings\n",
    "warnings.filterwarnings(\"ignore\")\n",
    "plt.style.use('ggplot')"
   ]
  },
  {
   "cell_type": "markdown",
   "metadata": {},
   "source": [
    "# Data Preprocessing"
   ]
  },
  {
   "cell_type": "code",
   "execution_count": 4,
   "metadata": {
    "execution": {
     "iopub.execute_input": "2021-06-01T07:37:49.973403Z",
     "iopub.status.busy": "2021-06-01T07:37:49.973054Z",
     "iopub.status.idle": "2021-06-01T07:37:50.033819Z",
     "shell.execute_reply": "2021-06-01T07:37:50.032894Z",
     "shell.execute_reply.started": "2021-06-01T07:37:49.973349Z"
    }
   },
   "outputs": [
    {
     "data": {
      "text/html": [
       "<div>\n",
       "<style scoped>\n",
       "    .dataframe tbody tr th:only-of-type {\n",
       "        vertical-align: middle;\n",
       "    }\n",
       "\n",
       "    .dataframe tbody tr th {\n",
       "        vertical-align: top;\n",
       "    }\n",
       "\n",
       "    .dataframe thead th {\n",
       "        text-align: right;\n",
       "    }\n",
       "</style>\n",
       "<table border=\"1\" class=\"dataframe\">\n",
       "  <thead>\n",
       "    <tr style=\"text-align: right;\">\n",
       "      <th></th>\n",
       "      <th>age</th>\n",
       "      <th>sex</th>\n",
       "      <th>cp</th>\n",
       "      <th>trestbps</th>\n",
       "      <th>chol</th>\n",
       "      <th>fbs</th>\n",
       "      <th>restecg</th>\n",
       "      <th>thalach</th>\n",
       "      <th>exang</th>\n",
       "      <th>oldpeak</th>\n",
       "      <th>slope</th>\n",
       "      <th>ca</th>\n",
       "      <th>thal</th>\n",
       "      <th>target</th>\n",
       "    </tr>\n",
       "    <tr>\n",
       "      <th>id</th>\n",
       "      <th></th>\n",
       "      <th></th>\n",
       "      <th></th>\n",
       "      <th></th>\n",
       "      <th></th>\n",
       "      <th></th>\n",
       "      <th></th>\n",
       "      <th></th>\n",
       "      <th></th>\n",
       "      <th></th>\n",
       "      <th></th>\n",
       "      <th></th>\n",
       "      <th></th>\n",
       "      <th></th>\n",
       "    </tr>\n",
       "  </thead>\n",
       "  <tbody>\n",
       "    <tr>\n",
       "      <td>84</td>\n",
       "      <td>42</td>\n",
       "      <td>0</td>\n",
       "      <td>0</td>\n",
       "      <td>102</td>\n",
       "      <td>265</td>\n",
       "      <td>0</td>\n",
       "      <td>0</td>\n",
       "      <td>122</td>\n",
       "      <td>0</td>\n",
       "      <td>0.6</td>\n",
       "      <td>1</td>\n",
       "      <td>0</td>\n",
       "      <td>2</td>\n",
       "      <td>1</td>\n",
       "    </tr>\n",
       "    <tr>\n",
       "      <td>12</td>\n",
       "      <td>49</td>\n",
       "      <td>1</td>\n",
       "      <td>1</td>\n",
       "      <td>130</td>\n",
       "      <td>266</td>\n",
       "      <td>0</td>\n",
       "      <td>1</td>\n",
       "      <td>171</td>\n",
       "      <td>0</td>\n",
       "      <td>0.6</td>\n",
       "      <td>2</td>\n",
       "      <td>0</td>\n",
       "      <td>2</td>\n",
       "      <td>1</td>\n",
       "    </tr>\n",
       "    <tr>\n",
       "      <td>236</td>\n",
       "      <td>58</td>\n",
       "      <td>1</td>\n",
       "      <td>0</td>\n",
       "      <td>125</td>\n",
       "      <td>300</td>\n",
       "      <td>0</td>\n",
       "      <td>0</td>\n",
       "      <td>171</td>\n",
       "      <td>0</td>\n",
       "      <td>0.0</td>\n",
       "      <td>2</td>\n",
       "      <td>2</td>\n",
       "      <td>3</td>\n",
       "      <td>0</td>\n",
       "    </tr>\n",
       "    <tr>\n",
       "      <td>64</td>\n",
       "      <td>58</td>\n",
       "      <td>1</td>\n",
       "      <td>2</td>\n",
       "      <td>140</td>\n",
       "      <td>211</td>\n",
       "      <td>1</td>\n",
       "      <td>0</td>\n",
       "      <td>165</td>\n",
       "      <td>0</td>\n",
       "      <td>0.0</td>\n",
       "      <td>2</td>\n",
       "      <td>0</td>\n",
       "      <td>2</td>\n",
       "      <td>1</td>\n",
       "    </tr>\n",
       "    <tr>\n",
       "      <td>176</td>\n",
       "      <td>60</td>\n",
       "      <td>1</td>\n",
       "      <td>0</td>\n",
       "      <td>117</td>\n",
       "      <td>230</td>\n",
       "      <td>1</td>\n",
       "      <td>1</td>\n",
       "      <td>160</td>\n",
       "      <td>1</td>\n",
       "      <td>1.4</td>\n",
       "      <td>2</td>\n",
       "      <td>2</td>\n",
       "      <td>3</td>\n",
       "      <td>0</td>\n",
       "    </tr>\n",
       "    <tr>\n",
       "      <td>275</td>\n",
       "      <td>52</td>\n",
       "      <td>1</td>\n",
       "      <td>0</td>\n",
       "      <td>125</td>\n",
       "      <td>212</td>\n",
       "      <td>0</td>\n",
       "      <td>1</td>\n",
       "      <td>168</td>\n",
       "      <td>0</td>\n",
       "      <td>1.0</td>\n",
       "      <td>2</td>\n",
       "      <td>2</td>\n",
       "      <td>3</td>\n",
       "      <td>0</td>\n",
       "    </tr>\n",
       "    <tr>\n",
       "      <td>72</td>\n",
       "      <td>29</td>\n",
       "      <td>1</td>\n",
       "      <td>1</td>\n",
       "      <td>130</td>\n",
       "      <td>204</td>\n",
       "      <td>0</td>\n",
       "      <td>0</td>\n",
       "      <td>202</td>\n",
       "      <td>0</td>\n",
       "      <td>0.0</td>\n",
       "      <td>2</td>\n",
       "      <td>0</td>\n",
       "      <td>2</td>\n",
       "      <td>1</td>\n",
       "    </tr>\n",
       "    <tr>\n",
       "      <td>271</td>\n",
       "      <td>61</td>\n",
       "      <td>1</td>\n",
       "      <td>3</td>\n",
       "      <td>134</td>\n",
       "      <td>234</td>\n",
       "      <td>0</td>\n",
       "      <td>1</td>\n",
       "      <td>145</td>\n",
       "      <td>0</td>\n",
       "      <td>2.6</td>\n",
       "      <td>1</td>\n",
       "      <td>2</td>\n",
       "      <td>2</td>\n",
       "      <td>0</td>\n",
       "    </tr>\n",
       "    <tr>\n",
       "      <td>127</td>\n",
       "      <td>67</td>\n",
       "      <td>0</td>\n",
       "      <td>2</td>\n",
       "      <td>152</td>\n",
       "      <td>277</td>\n",
       "      <td>0</td>\n",
       "      <td>1</td>\n",
       "      <td>172</td>\n",
       "      <td>0</td>\n",
       "      <td>0.0</td>\n",
       "      <td>2</td>\n",
       "      <td>1</td>\n",
       "      <td>2</td>\n",
       "      <td>1</td>\n",
       "    </tr>\n",
       "    <tr>\n",
       "      <td>201</td>\n",
       "      <td>60</td>\n",
       "      <td>1</td>\n",
       "      <td>0</td>\n",
       "      <td>125</td>\n",
       "      <td>258</td>\n",
       "      <td>0</td>\n",
       "      <td>0</td>\n",
       "      <td>141</td>\n",
       "      <td>1</td>\n",
       "      <td>2.8</td>\n",
       "      <td>1</td>\n",
       "      <td>1</td>\n",
       "      <td>3</td>\n",
       "      <td>0</td>\n",
       "    </tr>\n",
       "  </tbody>\n",
       "</table>\n",
       "</div>"
      ],
      "text/plain": [
       "     age  sex  cp  trestbps  chol  fbs  restecg  thalach  exang  oldpeak  \\\n",
       "id                                                                         \n",
       "84    42    0   0       102   265    0        0      122      0      0.6   \n",
       "12    49    1   1       130   266    0        1      171      0      0.6   \n",
       "236   58    1   0       125   300    0        0      171      0      0.0   \n",
       "64    58    1   2       140   211    1        0      165      0      0.0   \n",
       "176   60    1   0       117   230    1        1      160      1      1.4   \n",
       "275   52    1   0       125   212    0        1      168      0      1.0   \n",
       "72    29    1   1       130   204    0        0      202      0      0.0   \n",
       "271   61    1   3       134   234    0        1      145      0      2.6   \n",
       "127   67    0   2       152   277    0        1      172      0      0.0   \n",
       "201   60    1   0       125   258    0        0      141      1      2.8   \n",
       "\n",
       "     slope  ca  thal  target  \n",
       "id                            \n",
       "84       1   0     2       1  \n",
       "12       2   0     2       1  \n",
       "236      2   2     3       0  \n",
       "64       2   0     2       1  \n",
       "176      2   2     3       0  \n",
       "275      2   2     3       0  \n",
       "72       2   0     2       1  \n",
       "271      1   2     2       0  \n",
       "127      2   1     2       1  \n",
       "201      1   1     3       0  "
      ]
     },
     "execution_count": 4,
     "metadata": {},
     "output_type": "execute_result"
    }
   ],
   "source": [
    "df = pd.read_csv(\"heart.csv\")\n",
    "df.index.rename('id', inplace = True)\n",
    "df.drop_duplicates(inplace = True)\n",
    "df.sample(10)"
   ]
  },
  {
   "cell_type": "code",
   "execution_count": 5,
   "metadata": {
    "execution": {
     "iopub.execute_input": "2021-06-01T07:37:50.036278Z",
     "iopub.status.busy": "2021-06-01T07:37:50.035841Z",
     "iopub.status.idle": "2021-06-01T07:37:50.067168Z",
     "shell.execute_reply": "2021-06-01T07:37:50.066128Z",
     "shell.execute_reply.started": "2021-06-01T07:37:50.036235Z"
    }
   },
   "outputs": [
    {
     "data": {
      "text/html": [
       "<div>\n",
       "<style scoped>\n",
       "    .dataframe tbody tr th:only-of-type {\n",
       "        vertical-align: middle;\n",
       "    }\n",
       "\n",
       "    .dataframe tbody tr th {\n",
       "        vertical-align: top;\n",
       "    }\n",
       "\n",
       "    .dataframe thead th {\n",
       "        text-align: right;\n",
       "    }\n",
       "</style>\n",
       "<table border=\"1\" class=\"dataframe\">\n",
       "  <thead>\n",
       "    <tr style=\"text-align: right;\">\n",
       "      <th></th>\n",
       "      <th>column_name</th>\n",
       "      <th>percent_missing</th>\n",
       "    </tr>\n",
       "  </thead>\n",
       "  <tbody>\n",
       "    <tr>\n",
       "      <td>age</td>\n",
       "      <td>age</td>\n",
       "      <td>0.0</td>\n",
       "    </tr>\n",
       "    <tr>\n",
       "      <td>sex</td>\n",
       "      <td>sex</td>\n",
       "      <td>0.0</td>\n",
       "    </tr>\n",
       "    <tr>\n",
       "      <td>cp</td>\n",
       "      <td>cp</td>\n",
       "      <td>0.0</td>\n",
       "    </tr>\n",
       "    <tr>\n",
       "      <td>trestbps</td>\n",
       "      <td>trestbps</td>\n",
       "      <td>0.0</td>\n",
       "    </tr>\n",
       "    <tr>\n",
       "      <td>chol</td>\n",
       "      <td>chol</td>\n",
       "      <td>0.0</td>\n",
       "    </tr>\n",
       "    <tr>\n",
       "      <td>fbs</td>\n",
       "      <td>fbs</td>\n",
       "      <td>0.0</td>\n",
       "    </tr>\n",
       "    <tr>\n",
       "      <td>restecg</td>\n",
       "      <td>restecg</td>\n",
       "      <td>0.0</td>\n",
       "    </tr>\n",
       "    <tr>\n",
       "      <td>thalach</td>\n",
       "      <td>thalach</td>\n",
       "      <td>0.0</td>\n",
       "    </tr>\n",
       "    <tr>\n",
       "      <td>exang</td>\n",
       "      <td>exang</td>\n",
       "      <td>0.0</td>\n",
       "    </tr>\n",
       "    <tr>\n",
       "      <td>oldpeak</td>\n",
       "      <td>oldpeak</td>\n",
       "      <td>0.0</td>\n",
       "    </tr>\n",
       "    <tr>\n",
       "      <td>slope</td>\n",
       "      <td>slope</td>\n",
       "      <td>0.0</td>\n",
       "    </tr>\n",
       "    <tr>\n",
       "      <td>ca</td>\n",
       "      <td>ca</td>\n",
       "      <td>0.0</td>\n",
       "    </tr>\n",
       "    <tr>\n",
       "      <td>thal</td>\n",
       "      <td>thal</td>\n",
       "      <td>0.0</td>\n",
       "    </tr>\n",
       "    <tr>\n",
       "      <td>target</td>\n",
       "      <td>target</td>\n",
       "      <td>0.0</td>\n",
       "    </tr>\n",
       "  </tbody>\n",
       "</table>\n",
       "</div>"
      ],
      "text/plain": [
       "         column_name  percent_missing\n",
       "age              age              0.0\n",
       "sex              sex              0.0\n",
       "cp                cp              0.0\n",
       "trestbps    trestbps              0.0\n",
       "chol            chol              0.0\n",
       "fbs              fbs              0.0\n",
       "restecg      restecg              0.0\n",
       "thalach      thalach              0.0\n",
       "exang          exang              0.0\n",
       "oldpeak      oldpeak              0.0\n",
       "slope          slope              0.0\n",
       "ca                ca              0.0\n",
       "thal            thal              0.0\n",
       "target        target              0.0"
      ]
     },
     "execution_count": 5,
     "metadata": {},
     "output_type": "execute_result"
    }
   ],
   "source": [
    "#Amount of Missing Data\n",
    "percent_missing = df.isnull().sum() * 100 / len(df)\n",
    "missing_value_df = pd.DataFrame({'column_name': df.columns,\n",
    "                                 'percent_missing': percent_missing})\n",
    "missing_value_df"
   ]
  },
  {
   "cell_type": "markdown",
   "metadata": {},
   "source": [
    "# Data Distribution"
   ]
  },
  {
   "cell_type": "code",
   "execution_count": 6,
   "metadata": {
    "execution": {
     "iopub.execute_input": "2021-06-01T07:37:50.069589Z",
     "iopub.status.busy": "2021-06-01T07:37:50.069149Z",
     "iopub.status.idle": "2021-06-01T07:37:50.236478Z",
     "shell.execute_reply": "2021-06-01T07:37:50.235358Z",
     "shell.execute_reply.started": "2021-06-01T07:37:50.069544Z"
    }
   },
   "outputs": [
    {
     "name": "stdout",
     "output_type": "stream",
     "text": [
      "1    164\n",
      "0    138\n",
      "Name: target, dtype: int64\n"
     ]
    },
    {
     "data": {
      "text/plain": [
       "<matplotlib.axes._subplots.AxesSubplot at 0x2528e785dc8>"
      ]
     },
     "execution_count": 6,
     "metadata": {},
     "output_type": "execute_result"
    },
    {
     "data": {
      "image/png": "[encoded data removed]",
      "text/plain": [
       "<Figure size 432x288 with 1 Axes>"
      ]
     },
     "metadata": {},
     "output_type": "display_data"
    }
   ],
   "source": [
    "#Disribution of Target\n",
    "print(df.target.value_counts())\n",
    "sns.countplot(df['target'])"
   ]
  },
  {
   "cell_type": "code",
   "execution_count": 7,
   "metadata": {
    "execution": {
     "iopub.execute_input": "2021-06-01T07:37:50.238086Z",
     "iopub.status.busy": "2021-06-01T07:37:50.237797Z",
     "iopub.status.idle": "2021-06-01T07:37:51.801215Z",
     "shell.execute_reply": "2021-06-01T07:37:51.799018Z",
     "shell.execute_reply.started": "2021-06-01T07:37:50.238058Z"
    }
   },
   "outputs": [
    {
     "data": {
      "text/plain": [
       "array([[<matplotlib.axes._subplots.AxesSubplot object at 0x00000252906C45C8>,\n",
       "        <matplotlib.axes._subplots.AxesSubplot object at 0x0000025290712A88>,\n",
       "        <matplotlib.axes._subplots.AxesSubplot object at 0x000002529074E248>,\n",
       "        <matplotlib.axes._subplots.AxesSubplot object at 0x0000025290781F48>],\n",
       "       [<matplotlib.axes._subplots.AxesSubplot object at 0x00000252907BBEC8>,\n",
       "        <matplotlib.axes._subplots.AxesSubplot object at 0x00000252907F6D88>,\n",
       "        <matplotlib.axes._subplots.AxesSubplot object at 0x000002529082FB88>,\n",
       "        <matplotlib.axes._subplots.AxesSubplot object at 0x000002529086A8C8>],\n",
       "       [<matplotlib.axes._subplots.AxesSubplot object at 0x000002529086AAC8>,\n",
       "        <matplotlib.axes._subplots.AxesSubplot object at 0x00000252908A2A48>,\n",
       "        <matplotlib.axes._subplots.AxesSubplot object at 0x0000025290916608>,\n",
       "        <matplotlib.axes._subplots.AxesSubplot object at 0x0000025290757208>],\n",
       "       [<matplotlib.axes._subplots.AxesSubplot object at 0x0000025290974D48>,\n",
       "        <matplotlib.axes._subplots.AxesSubplot object at 0x00000252909AEC08>,\n",
       "        <matplotlib.axes._subplots.AxesSubplot object at 0x00000252909E9A88>,\n",
       "        <matplotlib.axes._subplots.AxesSubplot object at 0x0000025290A23A08>]],\n",
       "      dtype=object)"
      ]
     },
     "execution_count": 7,
     "metadata": {},
     "output_type": "execute_result"
    },
    {
     "data": {
      "image/png": "[encoded data removed]",
      "text/plain": [
       "<Figure size 720x720 with 16 Axes>"
      ]
     },
     "metadata": {},
     "output_type": "display_data"
    }
   ],
   "source": [
    "#Distibution of Continous Variables\n",
    "df.hist(figsize = (10,10))"
   ]
  },
  {
   "cell_type": "markdown",
   "metadata": {},
   "source": [
    "# Split data to Train and Test"
   ]
  },
  {
   "cell_type": "code",
   "execution_count": 8,
   "metadata": {
    "execution": {
     "iopub.execute_input": "2021-06-01T07:37:51.802673Z",
     "iopub.status.busy": "2021-06-01T07:37:51.802374Z",
     "iopub.status.idle": "2021-06-01T07:37:51.809905Z",
     "shell.execute_reply": "2021-06-01T07:37:51.809167Z",
     "shell.execute_reply.started": "2021-06-01T07:37:51.802646Z"
    }
   },
   "outputs": [],
   "source": [
    "#Split Train and Test Data\n",
    "x = df.drop(columns = \"target\")\n",
    "y = df[\"target\"]\n",
    "x_train,x_test,y_train,y_test=train_test_split(x, y, test_size=0.25,random_state= 37)"
   ]
  },
  {
   "cell_type": "markdown",
   "metadata": {},
   "source": [
    "# Data Scaling"
   ]
  },
  {
   "cell_type": "code",
   "execution_count": 9,
   "metadata": {
    "execution": {
     "iopub.execute_input": "2021-06-01T07:37:51.811404Z",
     "iopub.status.busy": "2021-06-01T07:37:51.810960Z",
     "iopub.status.idle": "2021-06-01T07:37:51.830019Z",
     "shell.execute_reply": "2021-06-01T07:37:51.829270Z",
     "shell.execute_reply.started": "2021-06-01T07:37:51.811359Z"
    }
   },
   "outputs": [],
   "source": [
    "#Standardize Data\n",
    "SS = StandardScaler()\n",
    "SS.fit(x_train)\n",
    "x_train = SS.transform(x_train)\n",
    "x_test = SS.transform(x_test)"
   ]
  },
  {
   "cell_type": "code",
   "execution_count": 10,
   "metadata": {
    "execution": {
     "iopub.execute_input": "2021-06-01T07:37:51.832394Z",
     "iopub.status.busy": "2021-06-01T07:37:51.832078Z",
     "iopub.status.idle": "2021-06-01T07:37:51.840350Z",
     "shell.execute_reply": "2021-06-01T07:37:51.839312Z",
     "shell.execute_reply.started": "2021-06-01T07:37:51.832343Z"
    }
   },
   "outputs": [],
   "source": [
    "# #Normalize Data\n",
    "# Norm = MinMaxScaler()\n",
    "# Norm.fit(x_train)\n",
    "# x_train = Norm.transform(x_train)\n",
    "# x_test = Norm.transform(x_test)"
   ]
  },
  {
   "cell_type": "markdown",
   "metadata": {},
   "source": [
    "# Train Model"
   ]
  },
  {
   "cell_type": "markdown",
   "metadata": {},
   "source": [
    "## K Neighbor"
   ]
  },
  {
   "cell_type": "code",
   "execution_count": 11,
   "metadata": {
    "execution": {
     "iopub.execute_input": "2021-06-01T07:37:51.842932Z",
     "iopub.status.busy": "2021-06-01T07:37:51.842377Z",
     "iopub.status.idle": "2021-06-01T07:37:52.219561Z",
     "shell.execute_reply": "2021-06-01T07:37:52.218516Z",
     "shell.execute_reply.started": "2021-06-01T07:37:51.842889Z"
    }
   },
   "outputs": [
    {
     "name": "stdout",
     "output_type": "stream",
     "text": [
      "for n = 2 : 0.7894736842105263\n",
      "for n = 3 : 0.8289473684210527\n",
      "for n = 4 : 0.868421052631579\n",
      "for n = 5 : 0.8552631578947368\n",
      "for n = 6 : 0.881578947368421\n",
      "for n = 7 : 0.8552631578947368\n",
      "for n = 8 : 0.868421052631579\n",
      "for n = 9 : 0.8421052631578947\n",
      "              precision    recall  f1-score   support\n",
      "\n",
      "           0       0.83      0.83      0.83        35\n",
      "           1       0.85      0.85      0.85        41\n",
      "\n",
      "    accuracy                           0.84        76\n",
      "   macro avg       0.84      0.84      0.84        76\n",
      "weighted avg       0.84      0.84      0.84        76\n",
      "\n"
     ]
    },
    {
     "data": {
      "image/png": "[encoded data removed]",
      "text/plain": [
       "<Figure size 432x288 with 1 Axes>"
      ]
     },
     "metadata": {},
     "output_type": "display_data"
    }
   ],
   "source": [
    "train_accuracy = []\n",
    "test_accuracy = []\n",
    "for i in range(2,10):\n",
    "    KN_model = KNeighborsClassifier(n_neighbors = i)\n",
    "    KN_model.fit(x_train,y_train)\n",
    "    KN_predictions = KN_model.predict(x_test)\n",
    "    \n",
    "    train_accuracy.append(KN_model.score(x_train, y_train))\n",
    "    test_accuracy.append(KN_model.score(x_test, y_test))\n",
    "    \n",
    "    print(\"for n =\",i ,\":\",accuracy_score(y_test,KN_predictions))\n",
    "print(classification_report(y_test, KN_predictions))\n",
    "\n",
    "#Generate plot\n",
    "plt.title('k-NN Varying number of neighbors')\n",
    "plt.plot(range(2,10), test_accuracy, label='Testing Accuracy')\n",
    "plt.plot(range(2,10), train_accuracy, label='Training accuracy')\n",
    "plt.legend()\n",
    "plt.xlabel('Number of neighbors')\n",
    "plt.ylabel('Accuracy')\n",
    "plt.show()"
   ]
  },
  {
   "cell_type": "markdown",
   "metadata": {},
   "source": [
    "## Support Vector Machine(SVM)"
   ]
  },
  {
   "cell_type": "code",
   "execution_count": 12,
   "metadata": {
    "execution": {
     "iopub.execute_input": "2021-06-01T07:37:52.221522Z",
     "iopub.status.busy": "2021-06-01T07:37:52.221085Z",
     "iopub.status.idle": "2021-06-01T07:37:52.240215Z",
     "shell.execute_reply": "2021-06-01T07:37:52.239251Z",
     "shell.execute_reply.started": "2021-06-01T07:37:52.221479Z"
    }
   },
   "outputs": [
    {
     "name": "stdout",
     "output_type": "stream",
     "text": [
      "0.868421052631579\n",
      "              precision    recall  f1-score   support\n",
      "\n",
      "           0       0.86      0.86      0.86        35\n",
      "           1       0.88      0.88      0.88        41\n",
      "\n",
      "    accuracy                           0.87        76\n",
      "   macro avg       0.87      0.87      0.87        76\n",
      "weighted avg       0.87      0.87      0.87        76\n",
      "\n"
     ]
    }
   ],
   "source": [
    "SVM_model = SVC()\n",
    "SVM_model.fit(x_train, y_train)\n",
    "SVM_predictions = SVM_model.predict(x_test)\n",
    "print(accuracy_score(y_test,SVM_predictions))\n",
    "print(classification_report(y_test, SVM_predictions))"
   ]
  },
  {
   "cell_type": "markdown",
   "metadata": {},
   "source": [
    "## Random Forrest"
   ]
  },
  {
   "cell_type": "code",
   "execution_count": 13,
   "metadata": {
    "execution": {
     "iopub.execute_input": "2021-06-01T07:37:52.241892Z",
     "iopub.status.busy": "2021-06-01T07:37:52.241596Z",
     "iopub.status.idle": "2021-06-01T07:37:52.453253Z",
     "shell.execute_reply": "2021-06-01T07:37:52.452270Z",
     "shell.execute_reply.started": "2021-06-01T07:37:52.241862Z"
    }
   },
   "outputs": [
    {
     "name": "stdout",
     "output_type": "stream",
     "text": [
      "0.8289473684210527\n",
      "              precision    recall  f1-score   support\n",
      "\n",
      "           0       0.78      0.89      0.83        35\n",
      "           1       0.89      0.78      0.83        41\n",
      "\n",
      "    accuracy                           0.83        76\n",
      "   macro avg       0.83      0.83      0.83        76\n",
      "weighted avg       0.84      0.83      0.83        76\n",
      "\n"
     ]
    }
   ],
   "source": [
    "RF_model = RandomForestClassifier()\n",
    "RF_model.fit(x_train, y_train)\n",
    "RF_predictions = RF_model.predict(x_test)\n",
    "print(accuracy_score(y_test,RF_predictions))\n",
    "print(classification_report(y_test, RF_predictions))"
   ]
  },
  {
   "cell_type": "markdown",
   "metadata": {},
   "source": [
    "## Decision Tree"
   ]
  },
  {
   "cell_type": "code",
   "execution_count": 14,
   "metadata": {
    "execution": {
     "iopub.execute_input": "2021-06-01T07:37:52.454793Z",
     "iopub.status.busy": "2021-06-01T07:37:52.454499Z",
     "iopub.status.idle": "2021-06-01T07:37:52.468872Z",
     "shell.execute_reply": "2021-06-01T07:37:52.467535Z",
     "shell.execute_reply.started": "2021-06-01T07:37:52.454755Z"
    }
   },
   "outputs": [
    {
     "name": "stdout",
     "output_type": "stream",
     "text": [
      "0.75\n",
      "              precision    recall  f1-score   support\n",
      "\n",
      "           0       0.70      0.80      0.75        35\n",
      "           1       0.81      0.71      0.75        41\n",
      "\n",
      "    accuracy                           0.75        76\n",
      "   macro avg       0.75      0.75      0.75        76\n",
      "weighted avg       0.76      0.75      0.75        76\n",
      "\n"
     ]
    }
   ],
   "source": [
    "DT_model = DecisionTreeClassifier()\n",
    "DT_model.fit(x_train,y_train)\n",
    "DT_predictions = DT_model.predict(x_test)\n",
    "print(accuracy_score(y_test,DT_predictions))\n",
    "print(classification_report(y_test, DT_predictions))"
   ]
  }
 ],
 "metadata": {
  "kernelspec": {
   "display_name": "Python 3",
   "language": "python",
   "name": "python3"
  },
  "language_info": {
   "codemirror_mode": {
    "name": "ipython",
    "version": 3
   },
   "file_extension": ".py",
   "mimetype": "text/x-python",
   "name": "python",
   "nbconvert_exporter": "python",
   "pygments_lexer": "ipython3",
   "version": "3.7.4"
  }
 },
 "nbformat": 4,
 "nbformat_minor": 4
}
